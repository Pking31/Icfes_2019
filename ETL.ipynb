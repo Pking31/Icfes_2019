{
 "cells": [
  {
   "attachments": {},
   "cell_type": "markdown",
   "metadata": {},
   "source": [
    "### Exploring data of (ICFES-Instituto Colombiano para la Evaluación de la Educación)  \n",
    "\n",
    "ICFES stands for \"Instituto Colombiano para la Evaluación de la Educación\" (Colombian Institute for the Evaluation of Education), which is a Colombian government agency responsible for assessing the quality of education in the country. It was established in 1968 and operates under the Ministry of National Education.\n",
    "\n",
    "The primary function of ICFES is to administer standardized tests that measure the academic performance of students at different levels of education, including primary, secondary, and higher education. These tests are known as the \"Pruebas Saber\" (Knowledge Tests) and are held annually. The results of these tests are used to evaluate the educational system, identify areas of improvement, and provide feedback to schools and policymakers."
   ]
  },
  {
   "attachments": {},
   "cell_type": "markdown",
   "metadata": {},
   "source": [
    "#### Setting up the enviroment "
   ]
  },
  {
   "cell_type": "code",
   "execution_count": null,
   "metadata": {},
   "outputs": [],
   "source": [
    "# importing libraries and data\n",
    "import pandas as pd\n",
    "import numpy as np\n",
    "import seaborn as sns\n",
    "import matplotlib.pyplot as plt\n",
    "from datetime import date, datetime\n",
    "\n",
    "\n",
    "#read the data\n",
    "data=pd.read_csv('Saber_11__2019-2.csv', delimiter=\",\", encoding='utf-8')\n"
   ]
  },
  {
   "cell_type": "code",
   "execution_count": null,
   "metadata": {},
   "outputs": [],
   "source": [
    "pd.set_option('display.max_columns', None)"
   ]
  },
  {
   "attachments": {},
   "cell_type": "markdown",
   "metadata": {},
   "source": [
    "#### Getting familiar with data"
   ]
  },
  {
   "cell_type": "code",
   "execution_count": null,
   "metadata": {},
   "outputs": [],
   "source": [
    "data.head()"
   ]
  },
  {
   "cell_type": "code",
   "execution_count": null,
   "metadata": {},
   "outputs": [],
   "source": [
    "forma=data.shape\n",
    "print(\"This data frame has \"+str(forma[0])+\" observations and \"+str(forma[1])+\" features. \")"
   ]
  },
  {
   "attachments": {},
   "cell_type": "markdown",
   "metadata": {},
   "source": [
    "#### There are some features that aren't relevant in order to analize the data. So let's drop them:"
   ]
  },
  {
   "cell_type": "code",
   "execution_count": null,
   "metadata": {},
   "outputs": [],
   "source": [
    "data.info()"
   ]
  },
  {
   "cell_type": "code",
   "execution_count": null,
   "metadata": {},
   "outputs": [],
   "source": [
    "df=data[['ESTU_GENERO','ESTU_FECHANACIMIENTO',\n",
    "        'FAMI_ESTRATOVIVIENDA', 'FAMI_PERSONASHOGAR', \n",
    "        'FAMI_EDUCACIONMADRE','FAMI_TIENEINTERNET', \n",
    "        'FAMI_TIENECOMPUTADOR', 'ESTU_DEDICACIONLECTURADIARIA',\n",
    "        'COLE_CALENDARIO','COLE_MCPIO_UBICACION',\n",
    "        'COLE_DEPTO_UBICACION', 'PUNT_LECTURA_CRITICA',\n",
    "        'PUNT_MATEMATICAS','PUNT_GLOBAL']]"
   ]
  },
  {
   "attachments": {},
   "cell_type": "markdown",
   "metadata": {},
   "source": [
    "#### Data manipulation"
   ]
  },
  {
   "cell_type": "code",
   "execution_count": null,
   "metadata": {},
   "outputs": [],
   "source": [
    "#Calculating missing values in rows\n",
    "df.isnull().sum() "
   ]
  },
  {
   "attachments": {},
   "cell_type": "markdown",
   "metadata": {},
   "source": [
    "#### Let's drop missing values "
   ]
  },
  {
   "cell_type": "code",
   "execution_count": null,
   "metadata": {},
   "outputs": [],
   "source": [
    "df.dropna(inplace=True)"
   ]
  },
  {
   "cell_type": "code",
   "execution_count": null,
   "metadata": {},
   "outputs": [],
   "source": [
    "df.to_csv('df1.csv', index=False)\n"
   ]
  },
  {
   "attachments": {},
   "cell_type": "markdown",
   "metadata": {},
   "source": [
    "## DESDE AQUI LABOURO"
   ]
  },
  {
   "cell_type": "code",
   "execution_count": 2,
   "metadata": {},
   "outputs": [],
   "source": [
    "# importing libraries and data\n",
    "import pandas as pd\n",
    "import numpy as np\n",
    "import seaborn as sns\n",
    "import matplotlib.pyplot as plt\n",
    "from datetime import date, datetime\n",
    "from sklearn.model_selection import train_test_split\n",
    "\n",
    "df=pd.read_csv('df1.csv', encoding='utf-8')"
   ]
  },
  {
   "attachments": {},
   "cell_type": "markdown",
   "metadata": {},
   "source": [
    "#### Next, let's analize each column  \n",
    "\n",
    "##### ESTU_GENERO                     "
   ]
  },
  {
   "cell_type": "code",
   "execution_count": 3,
   "metadata": {},
   "outputs": [
    {
     "data": {
      "text/plain": [
       "ESTU_GENERO\n",
       "F    280020\n",
       "M    236446\n",
       "-       114\n",
       "Name: count, dtype: int64"
      ]
     },
     "execution_count": 3,
     "metadata": {},
     "output_type": "execute_result"
    }
   ],
   "source": [
    "df.ESTU_GENERO.value_counts()                     "
   ]
  },
  {
   "cell_type": "code",
   "execution_count": 4,
   "metadata": {},
   "outputs": [],
   "source": [
    "# Calculating the proportion of  'M' and 'F'\n",
    "proporcion_m = len(df[df['ESTU_GENERO'] == 'M']) / len(df[df['ESTU_GENERO'] != '-'])\n",
    "proporcion_f = len(df[df['ESTU_GENERO'] == 'F']) / len(df[df['ESTU_GENERO'] != '-'])\n",
    "\n",
    "# replace the values \"-\" for the distribution of  'M' and 'F'\n",
    "df['ESTU_GENERO'] = np.where(df['ESTU_GENERO'] == '-', np.random.choice(['M', 'F'], p=[proporcion_m, proporcion_f]), df['ESTU_GENERO'])"
   ]
  },
  {
   "cell_type": "code",
   "execution_count": 5,
   "metadata": {},
   "outputs": [
    {
     "data": {
      "text/plain": [
       "ESTU_GENERO\n",
       "F    280134\n",
       "M    236446\n",
       "Name: count, dtype: int64"
      ]
     },
     "execution_count": 5,
     "metadata": {},
     "output_type": "execute_result"
    }
   ],
   "source": [
    "df.ESTU_GENERO.value_counts()"
   ]
  },
  {
   "attachments": {},
   "cell_type": "markdown",
   "metadata": {},
   "source": [
    "##### ESTU_FECHANACIMIENTO            "
   ]
  },
  {
   "cell_type": "code",
   "execution_count": 6,
   "metadata": {},
   "outputs": [
    {
     "name": "stderr",
     "output_type": "stream",
     "text": [
      "C:\\Users\\pedro\\AppData\\Local\\Temp\\ipykernel_23304\\1049103693.py:4: UserWarning: Could not infer format, so each element will be parsed individually, falling back to `dateutil`. To ensure parsing is consistent and as-expected, please specify a format.\n",
      "  df = df[pd.to_datetime(df['EDAD'], errors='coerce').notna()]\n"
     ]
    }
   ],
   "source": [
    "# rename the column to \"EDAD\"\n",
    "df.rename(columns={'ESTU_FECHANACIMIENTO':'EDAD'},inplace=True)\n",
    "#Identify and remove rows with invalid dates \n",
    "df = df[pd.to_datetime(df['EDAD'], errors='coerce').notna()]"
   ]
  },
  {
   "cell_type": "code",
   "execution_count": 7,
   "metadata": {},
   "outputs": [],
   "source": [
    "#pick format \n",
    "df['EDAD'] = pd.to_datetime(df['EDAD'], format='%m/%d/%Y %I:%M:%S %p')\n",
    "df['EDAD'] = 2019-df['EDAD'].dt.year"
   ]
  },
  {
   "attachments": {},
   "cell_type": "markdown",
   "metadata": {},
   "source": [
    "#### FAMI_ESTRATOVIVIENDA          "
   ]
  },
  {
   "cell_type": "code",
   "execution_count": 8,
   "metadata": {},
   "outputs": [],
   "source": [
    "df = df[(df['FAMI_ESTRATOVIVIENDA'] != 'Sin Estrato') & (df['FAMI_ESTRATOVIVIENDA'] !='-')]\n"
   ]
  },
  {
   "cell_type": "code",
   "execution_count": 9,
   "metadata": {},
   "outputs": [
    {
     "data": {
      "text/plain": [
       "FAMI_ESTRATOVIVIENDA\n",
       "Estrato 2    188099\n",
       "Estrato 1    159781\n",
       "Estrato 3    108543\n",
       "Estrato 4     25755\n",
       "Estrato 5      7994\n",
       "Estrato 6      3695\n",
       "Name: count, dtype: int64"
      ]
     },
     "execution_count": 9,
     "metadata": {},
     "output_type": "execute_result"
    }
   ],
   "source": [
    "df.FAMI_ESTRATOVIVIENDA.value_counts()"
   ]
  },
  {
   "attachments": {},
   "cell_type": "markdown",
   "metadata": {},
   "source": [
    "#### FAMI_PERSONASHOGAR"
   ]
  },
  {
   "cell_type": "code",
   "execution_count": 10,
   "metadata": {},
   "outputs": [
    {
     "data": {
      "text/plain": [
       "FAMI_PERSONASHOGAR\n",
       "3 a 4      240364\n",
       "5 a 6      155547\n",
       "7 a 8       39495\n",
       "1 a 2       36366\n",
       "9 o más     15016\n",
       "-            7079\n",
       "Name: count, dtype: int64"
      ]
     },
     "execution_count": 10,
     "metadata": {},
     "output_type": "execute_result"
    }
   ],
   "source": [
    "df.FAMI_PERSONASHOGAR.value_counts()          "
   ]
  },
  {
   "cell_type": "code",
   "execution_count": 11,
   "metadata": {},
   "outputs": [],
   "source": [
    "df=df[df['FAMI_PERSONASHOGAR']!='-']"
   ]
  },
  {
   "cell_type": "code",
   "execution_count": 12,
   "metadata": {},
   "outputs": [
    {
     "data": {
      "text/plain": [
       "FAMI_PERSONASHOGAR\n",
       "3 a 4      240364\n",
       "5 a 6      155547\n",
       "7 a 8       39495\n",
       "1 a 2       36366\n",
       "9 o más     15016\n",
       "Name: count, dtype: int64"
      ]
     },
     "execution_count": 12,
     "metadata": {},
     "output_type": "execute_result"
    }
   ],
   "source": [
    "df['FAMI_PERSONASHOGAR'].value_counts()"
   ]
  },
  {
   "attachments": {},
   "cell_type": "markdown",
   "metadata": {},
   "source": [
    "#### FAMI_EDUCACIONMADRE"
   ]
  },
  {
   "cell_type": "code",
   "execution_count": 13,
   "metadata": {},
   "outputs": [
    {
     "data": {
      "text/plain": [
       "FAMI_EDUCACIONMADRE\n",
       "Secundaria (Bachillerato) completa      129680\n",
       "Primaria incompleta                      73575\n",
       "Secundaria (Bachillerato) incompleta     71876\n",
       "Educación profesional completa           52458\n",
       "Técnica o tecnológica completa           51163\n",
       "Primaria completa                        49693\n",
       "Técnica o tecnológica incompleta         15263\n",
       "Educación profesional incompleta         11916\n",
       "Ninguno                                  10869\n",
       "Postgrado                                10510\n",
       "No sabe                                   8473\n",
       "No Aplica                                  894\n",
       "-                                          418\n",
       "Name: count, dtype: int64"
      ]
     },
     "execution_count": 13,
     "metadata": {},
     "output_type": "execute_result"
    }
   ],
   "source": [
    "df.FAMI_EDUCACIONMADRE.value_counts()           \n"
   ]
  },
  {
   "cell_type": "code",
   "execution_count": 14,
   "metadata": {},
   "outputs": [],
   "source": [
    "df=df[(df['FAMI_EDUCACIONMADRE']!='-') & (df['FAMI_EDUCACIONMADRE']!='No Aplica') & (df['FAMI_EDUCACIONMADRE']!='No sabe')]\n"
   ]
  },
  {
   "cell_type": "code",
   "execution_count": 15,
   "metadata": {},
   "outputs": [
    {
     "data": {
      "text/plain": [
       "FAMI_EDUCACIONMADRE\n",
       "Secundaria (Bachillerato) completa      129680\n",
       "Primaria incompleta                      73575\n",
       "Secundaria (Bachillerato) incompleta     71876\n",
       "Educación profesional completa           52458\n",
       "Técnica o tecnológica completa           51163\n",
       "Primaria completa                        49693\n",
       "Técnica o tecnológica incompleta         15263\n",
       "Educación profesional incompleta         11916\n",
       "Ninguno                                  10869\n",
       "Postgrado                                10510\n",
       "Name: count, dtype: int64"
      ]
     },
     "execution_count": 15,
     "metadata": {},
     "output_type": "execute_result"
    }
   ],
   "source": [
    "df.FAMI_EDUCACIONMADRE.value_counts()"
   ]
  },
  {
   "cell_type": "code",
   "execution_count": 16,
   "metadata": {},
   "outputs": [],
   "source": [
    "df=df[df['FAMI_TIENEINTERNET']!='-']      "
   ]
  },
  {
   "cell_type": "code",
   "execution_count": 17,
   "metadata": {},
   "outputs": [
    {
     "data": {
      "text/plain": [
       "FAMI_TIENEINTERNET\n",
       "Si    295927\n",
       "No    179834\n",
       "Name: count, dtype: int64"
      ]
     },
     "execution_count": 17,
     "metadata": {},
     "output_type": "execute_result"
    }
   ],
   "source": [
    "df['FAMI_TIENEINTERNET'].value_counts()"
   ]
  },
  {
   "attachments": {},
   "cell_type": "markdown",
   "metadata": {},
   "source": [
    "#### FAMI_TIENECOMPUTADOR          "
   ]
  },
  {
   "cell_type": "code",
   "execution_count": 18,
   "metadata": {},
   "outputs": [],
   "source": [
    "df=df[df['FAMI_TIENECOMPUTADOR']!='-']"
   ]
  },
  {
   "attachments": {},
   "cell_type": "markdown",
   "metadata": {},
   "source": [
    "#### ESTU_DEDICACIONLECTURADIARIA"
   ]
  },
  {
   "cell_type": "code",
   "execution_count": 19,
   "metadata": {},
   "outputs": [],
   "source": [
    "df=df[df['ESTU_DEDICACIONLECTURADIARIA']!='-']"
   ]
  },
  {
   "cell_type": "code",
   "execution_count": 20,
   "metadata": {},
   "outputs": [],
   "source": [
    "df.drop(columns=['COLE_CALENDARIO'], inplace=True)"
   ]
  },
  {
   "cell_type": "code",
   "execution_count": 21,
   "metadata": {},
   "outputs": [
    {
     "data": {
      "text/plain": [
       "0         47\n",
       "1         60\n",
       "2         66\n",
       "3         62\n",
       "4         63\n",
       "          ..\n",
       "516575    76\n",
       "516576    75\n",
       "516577    72\n",
       "516578    59\n",
       "516579    76\n",
       "Name: PUNT_LECTURA_CRITICA, Length: 472796, dtype: int64"
      ]
     },
     "execution_count": 21,
     "metadata": {},
     "output_type": "execute_result"
    }
   ],
   "source": [
    "\n",
    "df['PUNT_LECTURA_CRITICA']"
   ]
  },
  {
   "cell_type": "code",
   "execution_count": 22,
   "metadata": {},
   "outputs": [],
   "source": [
    "df['PUNT_LECTURA_CRITICA']=df['PUNT_LECTURA_CRITICA']/100\n",
    "\n",
    "\n",
    "\n"
   ]
  },
  {
   "cell_type": "code",
   "execution_count": 23,
   "metadata": {},
   "outputs": [],
   "source": [
    "df=df.reset_index(drop=True)"
   ]
  },
  {
   "cell_type": "code",
   "execution_count": 24,
   "metadata": {},
   "outputs": [],
   "source": [
    "df['PUNT_MATEMATICAS']=df['PUNT_MATEMATICAS']/100"
   ]
  },
  {
   "cell_type": "code",
   "execution_count": 25,
   "metadata": {},
   "outputs": [],
   "source": [
    "df['PUNT_GLOBAL']=df['PUNT_GLOBAL']/500"
   ]
  },
  {
   "attachments": {},
   "cell_type": "markdown",
   "metadata": {},
   "source": [
    "#### OUTLIERS IN \"EDAD\"  \n",
    "let's apply the Tukey method in order to figure out outliers"
   ]
  },
  {
   "cell_type": "code",
   "execution_count": 26,
   "metadata": {},
   "outputs": [
    {
     "data": {
      "text/plain": [
       "<AxesSubplot: >"
      ]
     },
     "execution_count": 26,
     "metadata": {},
     "output_type": "execute_result"
    },
    {
     "data": {
      "image/png": "[encoded data removed]",
      "text/plain": [
       "<Figure size 640x480 with 1 Axes>"
      ]
     },
     "metadata": {},
     "output_type": "display_data"
    }
   ],
   "source": [
    "sns.boxplot(df.EDAD)"
   ]
  },
  {
   "cell_type": "code",
   "execution_count": 27,
   "metadata": {},
   "outputs": [],
   "source": [
    "q3 = df[\"EDAD\"].quantile(0.75)\n",
    "q1 = df[\"EDAD\"].quantile(0.25)"
   ]
  },
  {
   "cell_type": "code",
   "execution_count": 28,
   "metadata": {},
   "outputs": [],
   "source": [
    "Rango_intercuarilico = q3 -q1"
   ]
  },
  {
   "cell_type": "code",
   "execution_count": 29,
   "metadata": {},
   "outputs": [
    {
     "data": {
      "text/plain": [
       "1.0"
      ]
     },
     "execution_count": 29,
     "metadata": {},
     "output_type": "execute_result"
    }
   ],
   "source": [
    "Rango_intercuarilico\n"
   ]
  },
  {
   "cell_type": "code",
   "execution_count": 30,
   "metadata": {},
   "outputs": [],
   "source": [
    "minimo_edad = q1 - 1.5*Rango_intercuarilico\n",
    "maximo_edad = q3 + 1.5*Rango_intercuarilico"
   ]
  },
  {
   "cell_type": "code",
   "execution_count": 31,
   "metadata": {},
   "outputs": [],
   "source": [
    "df = df[(df[\"EDAD\"] > minimo_edad) & (df[\"EDAD\"] < maximo_edad)]\n"
   ]
  },
  {
   "cell_type": "code",
   "execution_count": 32,
   "metadata": {},
   "outputs": [],
   "source": [
    "df=df.reset_index(drop=True)\n"
   ]
  },
  {
   "attachments": {},
   "cell_type": "markdown",
   "metadata": {},
   "source": [
    "### Exporting to df_clean.csv: the data is prepared to EDA."
   ]
  },
  {
   "cell_type": "code",
   "execution_count": 33,
   "metadata": {},
   "outputs": [],
   "source": [
    "df.to_csv('df_clean.csv', index=False)"
   ]
  }
 ],
 "metadata": {
  "kernelspec": {
   "display_name": "Python 3",
   "language": "python",
   "name": "python3"
  },
  "language_info": {
   "codemirror_mode": {
    "name": "ipython",
    "version": 3
   },
   "file_extension": ".py",
   "mimetype": "text/x-python",
   "name": "python",
   "nbconvert_exporter": "python",
   "pygments_lexer": "ipython3",
   "version": "3.11.1"
  },
  "orig_nbformat": 4,
  "vscode": {
   "interpreter": {
    "hash": "5238573367df39f7286bb46f9ff5f08f63a01a80960060ce41e3c79b190280fa"
   }
  }
 },
 "nbformat": 4,
 "nbformat_minor": 2
}
