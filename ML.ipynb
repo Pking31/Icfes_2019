{
 "cells": [
  {
   "cell_type": "code",
   "execution_count": 11,
   "metadata": {},
   "outputs": [],
   "source": [
    "import pandas as pd \n",
    "from sklearn.model_selection import train_test_split\n",
    "from sklearn.preprocessing import OrdinalEncoder\n",
    "from sklearn.preprocessing import OneHotEncoder\n",
    "from sklearn.preprocessing import LabelEncoder\n"
   ]
  },
  {
   "cell_type": "code",
   "execution_count": 12,
   "metadata": {},
   "outputs": [],
   "source": [
    "df=pd.read_csv('df_clean.csv')"
   ]
  },
  {
   "cell_type": "code",
   "execution_count": 13,
   "metadata": {},
   "outputs": [
    {
     "data": {
      "text/plain": [
       "0.5"
      ]
     },
     "execution_count": 13,
     "metadata": {},
     "output_type": "execute_result"
    }
   ],
   "source": [
    "df.PUNT_GLOBAL.median()"
   ]
  },
  {
   "cell_type": "code",
   "execution_count": 14,
   "metadata": {},
   "outputs": [],
   "source": [
    "prueba=df.copy()"
   ]
  },
  {
   "cell_type": "code",
   "execution_count": 15,
   "metadata": {},
   "outputs": [],
   "source": [
    "# features \n",
    "X=prueba[['ESTU_GENERO', 'EDAD', 'FAMI_ESTRATOVIVIENDA', 'FAMI_PERSONASHOGAR',\n",
    "       'FAMI_EDUCACIONMADRE', 'FAMI_TIENEINTERNET', 'FAMI_TIENECOMPUTADOR',\n",
    "       'ESTU_DEDICACIONLECTURADIARIA', 'COLE_MCPIO_UBICACION',\n",
    "       'COLE_DEPTO_UBICACION']]\n",
    "\n",
    "#target \n",
    "\n",
    "y=prueba.PUNT_GLOBAL"
   ]
  },
  {
   "cell_type": "code",
   "execution_count": 16,
   "metadata": {},
   "outputs": [
    {
     "data": {
      "text/plain": [
       "ESTU_GENERO                     object\n",
       "EDAD                             int64\n",
       "FAMI_ESTRATOVIVIENDA            object\n",
       "FAMI_PERSONASHOGAR              object\n",
       "FAMI_EDUCACIONMADRE             object\n",
       "FAMI_TIENEINTERNET              object\n",
       "FAMI_TIENECOMPUTADOR            object\n",
       "ESTU_DEDICACIONLECTURADIARIA    object\n",
       "COLE_MCPIO_UBICACION            object\n",
       "COLE_DEPTO_UBICACION            object\n",
       "dtype: object"
      ]
     },
     "execution_count": 16,
     "metadata": {},
     "output_type": "execute_result"
    }
   ],
   "source": [
    "X.dtypes"
   ]
  },
  {
   "cell_type": "code",
   "execution_count": 17,
   "metadata": {},
   "outputs": [],
   "source": [
    "X_train,X_valid,y_train,y_valid=train_test_split(X,y,random_state=42,train_size=0.7,test_size=0.3)"
   ]
  },
  {
   "attachments": {},
   "cell_type": "markdown",
   "metadata": {},
   "source": [
    "### ENCODING FEATURES OF X_TRAIN"
   ]
  },
  {
   "cell_type": "code",
   "execution_count": 18,
   "metadata": {},
   "outputs": [],
   "source": [
    "cat_ord=X_train[['EDAD','FAMI_ESTRATOVIVIENDA','FAMI_PERSONASHOGAR']]\n",
    "cat_nom=X_train[['ESTU_GENERO','FAMI_TIENEINTERNET','FAMI_TIENECOMPUTADOR']]\n",
    "cat_lab_muni=X_train[['COLE_MCPIO_UBICACION']]\n",
    "cat_lab_dptos=X_train[['COLE_DEPTO_UBICACION']]\n",
    "cat_per=X_train[['FAMI_EDUCACIONMADRE','ESTU_DEDICACIONLECTURADIARIA']]\n",
    "\n"
   ]
  },
  {
   "attachments": {},
   "cell_type": "markdown",
   "metadata": {},
   "source": [
    "#### Enconding nominal categories"
   ]
  },
  {
   "cell_type": "code",
   "execution_count": 19,
   "metadata": {},
   "outputs": [
    {
     "name": "stderr",
     "output_type": "stream",
     "text": [
      "C:\\Users\\pedro\\AppData\\Local\\Packages\\PythonSoftwareFoundation.Python.3.11_qbz5n2kfra8p0\\LocalCache\\local-packages\\Python311\\site-packages\\sklearn\\preprocessing\\_encoders.py:868: FutureWarning:\n",
      "\n",
      "`sparse` was renamed to `sparse_output` in version 1.2 and will be removed in 1.4. `sparse_output` is ignored unless you leave `sparse` to its default value.\n",
      "\n"
     ]
    }
   ],
   "source": [
    "onehot_encoder = OneHotEncoder(sparse=False)\n",
    "onehot_encoded = onehot_encoder.fit_transform(cat_nom)\n",
    "df_onehot = pd.DataFrame(onehot_encoded, columns=onehot_encoder.get_feature_names_out(['ESTU_GENERO','FAMI_TIENEINTERNET','FAMI_TIENECOMPUTADOR']))\n"
   ]
  },
  {
   "attachments": {},
   "cell_type": "markdown",
   "metadata": {},
   "source": [
    "#### Enconding Ordianal categories\n"
   ]
  },
  {
   "cell_type": "code",
   "execution_count": 20,
   "metadata": {},
   "outputs": [],
   "source": [
    "ordinal_encoder = OrdinalEncoder()\n",
    "ordinal_encoded = ordinal_encoder.fit_transform(cat_ord)\n",
    "df_ordinal = pd.DataFrame(ordinal_encoded, columns=['EDAD','FAMI_ESTRATOVIVIENDA','FAMI_PERSONASHOGAR'])\n"
   ]
  },
  {
   "attachments": {},
   "cell_type": "markdown",
   "metadata": {},
   "source": [
    "#### Encoding labeled categories Municipios and departementos"
   ]
  },
  {
   "cell_type": "code",
   "execution_count": 21,
   "metadata": {},
   "outputs": [
    {
     "name": "stderr",
     "output_type": "stream",
     "text": [
      "C:\\Users\\pedro\\AppData\\Local\\Packages\\PythonSoftwareFoundation.Python.3.11_qbz5n2kfra8p0\\LocalCache\\local-packages\\Python311\\site-packages\\sklearn\\preprocessing\\_label.py:116: DataConversionWarning:\n",
      "\n",
      "A column-vector y was passed when a 1d array was expected. Please change the shape of y to (n_samples, ), for example using ravel().\n",
      "\n"
     ]
    }
   ],
   "source": [
    "labeled_encoder=LabelEncoder()\n",
    "labeled_encoded=labeled_encoder.fit_transform(cat_lab_muni)\n",
    "df_labeled_muni = pd.DataFrame(labeled_encoded, columns=['COLE_MCPIO_UBICACION'])"
   ]
  },
  {
   "cell_type": "code",
   "execution_count": 22,
   "metadata": {},
   "outputs": [
    {
     "name": "stderr",
     "output_type": "stream",
     "text": [
      "C:\\Users\\pedro\\AppData\\Local\\Packages\\PythonSoftwareFoundation.Python.3.11_qbz5n2kfra8p0\\LocalCache\\local-packages\\Python311\\site-packages\\sklearn\\preprocessing\\_label.py:116: DataConversionWarning:\n",
      "\n",
      "A column-vector y was passed when a 1d array was expected. Please change the shape of y to (n_samples, ), for example using ravel().\n",
      "\n"
     ]
    }
   ],
   "source": [
    "labeled_encod=LabelEncoder()\n",
    "labeled_encoded=labeled_encod.fit_transform(cat_lab_dptos)\n",
    "df_labeled_dptos = pd.DataFrame(labeled_encoded, columns=['COLE_DEPTO_UBICACION'])"
   ]
  },
  {
   "attachments": {},
   "cell_type": "markdown",
   "metadata": {},
   "source": [
    "#### Encoding 'FAMI_EDUCACIONMADRE','ESTU_DEDICACIONLECTURADIARIA'"
   ]
  },
  {
   "cell_type": "code",
   "execution_count": 23,
   "metadata": {},
   "outputs": [],
   "source": [
    "orden_categorias = [\n",
    "    'Ninguno',\n",
    "    'Primaria incompleta',\n",
    "    'Primaria completa',\n",
    "    'Secundaria (Bachillerato) incompleta',\n",
    "    'Secundaria (Bachillerato) completa',\n",
    "    'Técnica o tecnológica incompleta',\n",
    "    'Técnica o tecnológica completa',\n",
    "    'Educación profesional incompleta',\n",
    "    'Educación profesional completa',\n",
    "    'Postgrado'\n",
    "]\n",
    "\n",
    "# Crear una instancia del codificador ordinal\n",
    "OE = OrdinalEncoder(categories=[orden_categorias])\n",
    "\n",
    "cd=OE.fit_transform(X_train[['FAMI_EDUCACIONMADRE']])\n",
    "df_fami_educacion_madre = pd.DataFrame(cd, columns=['FAMI_EDUCACIONMADRE'])\n"
   ]
  },
  {
   "cell_type": "code",
   "execution_count": 24,
   "metadata": {},
   "outputs": [],
   "source": [
    "orden_cat=['No leo por entretenimiento',\n",
    "           '30 minutos o menos',\n",
    "           'Entre 30 y 60 minutos',\n",
    "           'Entre 1 y 2 horas',\n",
    "           'Más de 2 horas']\n",
    "\n",
    "OE_e=OrdinalEncoder(categories=[orden_cat])\n",
    "pe=OE_e.fit_transform(X_train[['ESTU_DEDICACIONLECTURADIARIA']])\n",
    "df_lect_dia=pd.DataFrame(pe, columns=['ESTU_DEDICACIONLECTURADIARIA'])"
   ]
  },
  {
   "attachments": {},
   "cell_type": "markdown",
   "metadata": {},
   "source": [
    "#### LETS JOIN DF'S"
   ]
  },
  {
   "cell_type": "code",
   "execution_count": 25,
   "metadata": {},
   "outputs": [],
   "source": [
    "X_train_final = pd.concat([df_onehot, df_ordinal, df_labeled_muni,df_labeled_dptos,df_fami_educacion_madre,df_lect_dia], axis=1)\n"
   ]
  },
  {
   "attachments": {},
   "cell_type": "markdown",
   "metadata": {},
   "source": [
    "### ENCODING FEATURES OF X_VALID"
   ]
  },
  {
   "cell_type": "code",
   "execution_count": 26,
   "metadata": {},
   "outputs": [
    {
     "name": "stderr",
     "output_type": "stream",
     "text": [
      "C:\\Users\\pedro\\AppData\\Local\\Packages\\PythonSoftwareFoundation.Python.3.11_qbz5n2kfra8p0\\LocalCache\\local-packages\\Python311\\site-packages\\sklearn\\preprocessing\\_encoders.py:868: FutureWarning:\n",
      "\n",
      "`sparse` was renamed to `sparse_output` in version 1.2 and will be removed in 1.4. `sparse_output` is ignored unless you leave `sparse` to its default value.\n",
      "\n",
      "C:\\Users\\pedro\\AppData\\Local\\Packages\\PythonSoftwareFoundation.Python.3.11_qbz5n2kfra8p0\\LocalCache\\local-packages\\Python311\\site-packages\\sklearn\\preprocessing\\_label.py:116: DataConversionWarning:\n",
      "\n",
      "A column-vector y was passed when a 1d array was expected. Please change the shape of y to (n_samples, ), for example using ravel().\n",
      "\n",
      "C:\\Users\\pedro\\AppData\\Local\\Packages\\PythonSoftwareFoundation.Python.3.11_qbz5n2kfra8p0\\LocalCache\\local-packages\\Python311\\site-packages\\sklearn\\preprocessing\\_label.py:116: DataConversionWarning:\n",
      "\n",
      "A column-vector y was passed when a 1d array was expected. Please change the shape of y to (n_samples, ), for example using ravel().\n",
      "\n"
     ]
    }
   ],
   "source": [
    "cat_ord=X_valid[['EDAD','FAMI_ESTRATOVIVIENDA','FAMI_PERSONASHOGAR']]\n",
    "cat_nom=X_valid[['ESTU_GENERO','FAMI_TIENEINTERNET','FAMI_TIENECOMPUTADOR']]\n",
    "cat_lab_muni=X_valid[['COLE_MCPIO_UBICACION']]\n",
    "cat_lab_dptos=X_valid[['COLE_DEPTO_UBICACION']]\n",
    "cat_per=X_valid[['FAMI_EDUCACIONMADRE','ESTU_DEDICACIONLECTURADIARIA']]\n",
    "\n",
    "\n",
    "\n",
    "# %% [markdown]\n",
    "# #### Enconding nominal categories\n",
    "\n",
    "# %%\n",
    "onehot_encoder = OneHotEncoder(sparse=False)\n",
    "onehot_encoded = onehot_encoder.fit_transform(cat_nom)\n",
    "df_onehot = pd.DataFrame(onehot_encoded, columns=onehot_encoder.get_feature_names_out(['ESTU_GENERO','FAMI_TIENEINTERNET','FAMI_TIENECOMPUTADOR']))\n",
    "\n",
    "\n",
    "# %% [markdown]\n",
    "# #### Enconding Ordianal categories\n",
    "# \n",
    "\n",
    "# %%\n",
    "ordinal_encoder = OrdinalEncoder()\n",
    "ordinal_encoded = ordinal_encoder.fit_transform(cat_ord)\n",
    "df_ordinal = pd.DataFrame(ordinal_encoded, columns=['EDAD','FAMI_ESTRATOVIVIENDA','FAMI_PERSONASHOGAR'])\n",
    "\n",
    "\n",
    "# %% [markdown]\n",
    "# #### Encoding labeled categories Municipios and departementos\n",
    "\n",
    "# %%\n",
    "labeled_encoder=LabelEncoder()\n",
    "labeled_encoded=labeled_encoder.fit_transform(cat_lab_muni)\n",
    "df_labeled_muni = pd.DataFrame(labeled_encoded, columns=['COLE_MCPIO_UBICACION'])\n",
    "\n",
    "# %%\n",
    "labeled_encod=LabelEncoder()\n",
    "labeled_encoded=labeled_encod.fit_transform(cat_lab_dptos)\n",
    "df_labeled_dptos = pd.DataFrame(labeled_encoded, columns=['COLE_DEPTO_UBICACION'])\n",
    "\n",
    "# %% [markdown]\n",
    "# #### Encoding 'FAMI_EDUCACIONMADRE','ESTU_DEDICACIONLECTURADIARIA'\n",
    "\n",
    "# %%\n",
    "orden_categorias = [\n",
    "    'Ninguno',\n",
    "    'Primaria incompleta',\n",
    "    'Primaria completa',\n",
    "    'Secundaria (Bachillerato) incompleta',\n",
    "    'Secundaria (Bachillerato) completa',\n",
    "    'Técnica o tecnológica incompleta',\n",
    "    'Técnica o tecnológica completa',\n",
    "    'Educación profesional incompleta',\n",
    "    'Educación profesional completa',\n",
    "    'Postgrado'\n",
    "]\n",
    "\n",
    "# Crear una instancia del codificador ordinal\n",
    "OE = OrdinalEncoder(categories=[orden_categorias])\n",
    "\n",
    "cd=OE.fit_transform(X_valid[['FAMI_EDUCACIONMADRE']])\n",
    "df_fami_educacion_madre = pd.DataFrame(cd, columns=['FAMI_EDUCACIONMADRE'])\n",
    "\n",
    "\n",
    "# %%\n",
    "orden_cat=['No leo por entretenimiento',\n",
    "           '30 minutos o menos',\n",
    "           'Entre 30 y 60 minutos',\n",
    "           'Entre 1 y 2 horas',\n",
    "           'Más de 2 horas']\n",
    "\n",
    "OE_e=OrdinalEncoder(categories=[orden_cat])\n",
    "pe=OE_e.fit_transform(X_valid[['ESTU_DEDICACIONLECTURADIARIA']])\n",
    "df_lect_dia=pd.DataFrame(pe, columns=['ESTU_DEDICACIONLECTURADIARIA'])\n",
    "\n",
    "# %% [markdown]\n",
    "# #### let's join the df's\n",
    "\n",
    "# %%\n",
    "X_valid_final = pd.concat([df_onehot, df_ordinal, df_labeled_muni,df_labeled_dptos,df_fami_educacion_madre,df_lect_dia], axis=1)"
   ]
  },
  {
   "cell_type": "code",
   "execution_count": 27,
   "metadata": {},
   "outputs": [
    {
     "data": {
      "text/html": [
       "<div>\n",
       "<style scoped>\n",
       "    .dataframe tbody tr th:only-of-type {\n",
       "        vertical-align: middle;\n",
       "    }\n",
       "\n",
       "    .dataframe tbody tr th {\n",
       "        vertical-align: top;\n",
       "    }\n",
       "\n",
       "    .dataframe thead th {\n",
       "        text-align: right;\n",
       "    }\n",
       "</style>\n",
       "<table border=\"1\" class=\"dataframe\">\n",
       "  <thead>\n",
       "    <tr style=\"text-align: right;\">\n",
       "      <th></th>\n",
       "      <th>ESTU_GENERO_F</th>\n",
       "      <th>ESTU_GENERO_M</th>\n",
       "      <th>FAMI_TIENEINTERNET_No</th>\n",
       "      <th>FAMI_TIENEINTERNET_Si</th>\n",
       "      <th>FAMI_TIENECOMPUTADOR_No</th>\n",
       "      <th>FAMI_TIENECOMPUTADOR_Si</th>\n",
       "      <th>EDAD</th>\n",
       "      <th>FAMI_ESTRATOVIVIENDA</th>\n",
       "      <th>FAMI_PERSONASHOGAR</th>\n",
       "      <th>COLE_MCPIO_UBICACION</th>\n",
       "      <th>COLE_DEPTO_UBICACION</th>\n",
       "      <th>FAMI_EDUCACIONMADRE</th>\n",
       "      <th>ESTU_DEDICACIONLECTURADIARIA</th>\n",
       "    </tr>\n",
       "  </thead>\n",
       "  <tbody>\n",
       "    <tr>\n",
       "      <th>0</th>\n",
       "      <td>0.0</td>\n",
       "      <td>1.0</td>\n",
       "      <td>1.0</td>\n",
       "      <td>0.0</td>\n",
       "      <td>0.0</td>\n",
       "      <td>1.0</td>\n",
       "      <td>2.0</td>\n",
       "      <td>0.0</td>\n",
       "      <td>1.0</td>\n",
       "      <td>229</td>\n",
       "      <td>6</td>\n",
       "      <td>2.0</td>\n",
       "      <td>0.0</td>\n",
       "    </tr>\n",
       "    <tr>\n",
       "      <th>1</th>\n",
       "      <td>0.0</td>\n",
       "      <td>1.0</td>\n",
       "      <td>0.0</td>\n",
       "      <td>1.0</td>\n",
       "      <td>0.0</td>\n",
       "      <td>1.0</td>\n",
       "      <td>1.0</td>\n",
       "      <td>1.0</td>\n",
       "      <td>2.0</td>\n",
       "      <td>815</td>\n",
       "      <td>19</td>\n",
       "      <td>6.0</td>\n",
       "      <td>0.0</td>\n",
       "    </tr>\n",
       "    <tr>\n",
       "      <th>2</th>\n",
       "      <td>0.0</td>\n",
       "      <td>1.0</td>\n",
       "      <td>0.0</td>\n",
       "      <td>1.0</td>\n",
       "      <td>0.0</td>\n",
       "      <td>1.0</td>\n",
       "      <td>2.0</td>\n",
       "      <td>2.0</td>\n",
       "      <td>1.0</td>\n",
       "      <td>510</td>\n",
       "      <td>1</td>\n",
       "      <td>3.0</td>\n",
       "      <td>1.0</td>\n",
       "    </tr>\n",
       "    <tr>\n",
       "      <th>3</th>\n",
       "      <td>0.0</td>\n",
       "      <td>1.0</td>\n",
       "      <td>1.0</td>\n",
       "      <td>0.0</td>\n",
       "      <td>1.0</td>\n",
       "      <td>0.0</td>\n",
       "      <td>1.0</td>\n",
       "      <td>1.0</td>\n",
       "      <td>2.0</td>\n",
       "      <td>99</td>\n",
       "      <td>4</td>\n",
       "      <td>3.0</td>\n",
       "      <td>0.0</td>\n",
       "    </tr>\n",
       "    <tr>\n",
       "      <th>4</th>\n",
       "      <td>1.0</td>\n",
       "      <td>0.0</td>\n",
       "      <td>1.0</td>\n",
       "      <td>0.0</td>\n",
       "      <td>0.0</td>\n",
       "      <td>1.0</td>\n",
       "      <td>1.0</td>\n",
       "      <td>0.0</td>\n",
       "      <td>0.0</td>\n",
       "      <td>510</td>\n",
       "      <td>1</td>\n",
       "      <td>1.0</td>\n",
       "      <td>3.0</td>\n",
       "    </tr>\n",
       "    <tr>\n",
       "      <th>...</th>\n",
       "      <td>...</td>\n",
       "      <td>...</td>\n",
       "      <td>...</td>\n",
       "      <td>...</td>\n",
       "      <td>...</td>\n",
       "      <td>...</td>\n",
       "      <td>...</td>\n",
       "      <td>...</td>\n",
       "      <td>...</td>\n",
       "      <td>...</td>\n",
       "      <td>...</td>\n",
       "      <td>...</td>\n",
       "      <td>...</td>\n",
       "    </tr>\n",
       "    <tr>\n",
       "      <th>130093</th>\n",
       "      <td>1.0</td>\n",
       "      <td>0.0</td>\n",
       "      <td>0.0</td>\n",
       "      <td>1.0</td>\n",
       "      <td>0.0</td>\n",
       "      <td>1.0</td>\n",
       "      <td>2.0</td>\n",
       "      <td>1.0</td>\n",
       "      <td>2.0</td>\n",
       "      <td>106</td>\n",
       "      <td>27</td>\n",
       "      <td>5.0</td>\n",
       "      <td>4.0</td>\n",
       "    </tr>\n",
       "    <tr>\n",
       "      <th>130094</th>\n",
       "      <td>1.0</td>\n",
       "      <td>0.0</td>\n",
       "      <td>1.0</td>\n",
       "      <td>0.0</td>\n",
       "      <td>1.0</td>\n",
       "      <td>0.0</td>\n",
       "      <td>2.0</td>\n",
       "      <td>1.0</td>\n",
       "      <td>2.0</td>\n",
       "      <td>128</td>\n",
       "      <td>30</td>\n",
       "      <td>4.0</td>\n",
       "      <td>2.0</td>\n",
       "    </tr>\n",
       "    <tr>\n",
       "      <th>130095</th>\n",
       "      <td>0.0</td>\n",
       "      <td>1.0</td>\n",
       "      <td>0.0</td>\n",
       "      <td>1.0</td>\n",
       "      <td>0.0</td>\n",
       "      <td>1.0</td>\n",
       "      <td>0.0</td>\n",
       "      <td>1.0</td>\n",
       "      <td>1.0</td>\n",
       "      <td>99</td>\n",
       "      <td>4</td>\n",
       "      <td>4.0</td>\n",
       "      <td>0.0</td>\n",
       "    </tr>\n",
       "    <tr>\n",
       "      <th>130096</th>\n",
       "      <td>1.0</td>\n",
       "      <td>0.0</td>\n",
       "      <td>1.0</td>\n",
       "      <td>0.0</td>\n",
       "      <td>1.0</td>\n",
       "      <td>0.0</td>\n",
       "      <td>2.0</td>\n",
       "      <td>4.0</td>\n",
       "      <td>1.0</td>\n",
       "      <td>208</td>\n",
       "      <td>12</td>\n",
       "      <td>1.0</td>\n",
       "      <td>3.0</td>\n",
       "    </tr>\n",
       "    <tr>\n",
       "      <th>130097</th>\n",
       "      <td>1.0</td>\n",
       "      <td>0.0</td>\n",
       "      <td>0.0</td>\n",
       "      <td>1.0</td>\n",
       "      <td>0.0</td>\n",
       "      <td>1.0</td>\n",
       "      <td>1.0</td>\n",
       "      <td>1.0</td>\n",
       "      <td>1.0</td>\n",
       "      <td>939</td>\n",
       "      <td>6</td>\n",
       "      <td>8.0</td>\n",
       "      <td>1.0</td>\n",
       "    </tr>\n",
       "  </tbody>\n",
       "</table>\n",
       "<p>130098 rows × 13 columns</p>\n",
       "</div>"
      ],
      "text/plain": [
       "        ESTU_GENERO_F  ESTU_GENERO_M  FAMI_TIENEINTERNET_No  \\\n",
       "0                 0.0            1.0                    1.0   \n",
       "1                 0.0            1.0                    0.0   \n",
       "2                 0.0            1.0                    0.0   \n",
       "3                 0.0            1.0                    1.0   \n",
       "4                 1.0            0.0                    1.0   \n",
       "...               ...            ...                    ...   \n",
       "130093            1.0            0.0                    0.0   \n",
       "130094            1.0            0.0                    1.0   \n",
       "130095            0.0            1.0                    0.0   \n",
       "130096            1.0            0.0                    1.0   \n",
       "130097            1.0            0.0                    0.0   \n",
       "\n",
       "        FAMI_TIENEINTERNET_Si  FAMI_TIENECOMPUTADOR_No  \\\n",
       "0                         0.0                      0.0   \n",
       "1                         1.0                      0.0   \n",
       "2                         1.0                      0.0   \n",
       "3                         0.0                      1.0   \n",
       "4                         0.0                      0.0   \n",
       "...                       ...                      ...   \n",
       "130093                    1.0                      0.0   \n",
       "130094                    0.0                      1.0   \n",
       "130095                    1.0                      0.0   \n",
       "130096                    0.0                      1.0   \n",
       "130097                    1.0                      0.0   \n",
       "\n",
       "        FAMI_TIENECOMPUTADOR_Si  EDAD  FAMI_ESTRATOVIVIENDA  \\\n",
       "0                           1.0   2.0                   0.0   \n",
       "1                           1.0   1.0                   1.0   \n",
       "2                           1.0   2.0                   2.0   \n",
       "3                           0.0   1.0                   1.0   \n",
       "4                           1.0   1.0                   0.0   \n",
       "...                         ...   ...                   ...   \n",
       "130093                      1.0   2.0                   1.0   \n",
       "130094                      0.0   2.0                   1.0   \n",
       "130095                      1.0   0.0                   1.0   \n",
       "130096                      0.0   2.0                   4.0   \n",
       "130097                      1.0   1.0                   1.0   \n",
       "\n",
       "        FAMI_PERSONASHOGAR  COLE_MCPIO_UBICACION  COLE_DEPTO_UBICACION  \\\n",
       "0                      1.0                   229                     6   \n",
       "1                      2.0                   815                    19   \n",
       "2                      1.0                   510                     1   \n",
       "3                      2.0                    99                     4   \n",
       "4                      0.0                   510                     1   \n",
       "...                    ...                   ...                   ...   \n",
       "130093                 2.0                   106                    27   \n",
       "130094                 2.0                   128                    30   \n",
       "130095                 1.0                    99                     4   \n",
       "130096                 1.0                   208                    12   \n",
       "130097                 1.0                   939                     6   \n",
       "\n",
       "        FAMI_EDUCACIONMADRE  ESTU_DEDICACIONLECTURADIARIA  \n",
       "0                       2.0                           0.0  \n",
       "1                       6.0                           0.0  \n",
       "2                       3.0                           1.0  \n",
       "3                       3.0                           0.0  \n",
       "4                       1.0                           3.0  \n",
       "...                     ...                           ...  \n",
       "130093                  5.0                           4.0  \n",
       "130094                  4.0                           2.0  \n",
       "130095                  4.0                           0.0  \n",
       "130096                  1.0                           3.0  \n",
       "130097                  8.0                           1.0  \n",
       "\n",
       "[130098 rows x 13 columns]"
      ]
     },
     "execution_count": 27,
     "metadata": {},
     "output_type": "execute_result"
    }
   ],
   "source": [
    "X_valid_final"
   ]
  },
  {
   "attachments": {},
   "cell_type": "markdown",
   "metadata": {},
   "source": [
    "### WE ARE READY TO APPLY A MACHINE LEARNING MODEL"
   ]
  },
  {
   "cell_type": "code",
   "execution_count": 28,
   "metadata": {},
   "outputs": [
    {
     "data": {
      "text/html": [
       "<style>#sk-container-id-1 {color: black;background-color: white;}#sk-container-id-1 pre{padding: 0;}#sk-container-id-1 div.sk-toggleable {background-color: white;}#sk-container-id-1 label.sk-toggleable__label {cursor: pointer;display: block;width: 100%;margin-bottom: 0;padding: 0.3em;box-sizing: border-box;text-align: center;}#sk-container-id-1 label.sk-toggleable__label-arrow:before {content: \"▸\";float: left;margin-right: 0.25em;color: #696969;}#sk-container-id-1 label.sk-toggleable__label-arrow:hover:before {color: black;}#sk-container-id-1 div.sk-estimator:hover label.sk-toggleable__label-arrow:before {color: black;}#sk-container-id-1 div.sk-toggleable__content {max-height: 0;max-width: 0;overflow: hidden;text-align: left;background-color: #f0f8ff;}#sk-container-id-1 div.sk-toggleable__content pre {margin: 0.2em;color: black;border-radius: 0.25em;background-color: #f0f8ff;}#sk-container-id-1 input.sk-toggleable__control:checked~div.sk-toggleable__content {max-height: 200px;max-width: 100%;overflow: auto;}#sk-container-id-1 input.sk-toggleable__control:checked~label.sk-toggleable__label-arrow:before {content: \"▾\";}#sk-container-id-1 div.sk-estimator input.sk-toggleable__control:checked~label.sk-toggleable__label {background-color: #d4ebff;}#sk-container-id-1 div.sk-label input.sk-toggleable__control:checked~label.sk-toggleable__label {background-color: #d4ebff;}#sk-container-id-1 input.sk-hidden--visually {border: 0;clip: rect(1px 1px 1px 1px);clip: rect(1px, 1px, 1px, 1px);height: 1px;margin: -1px;overflow: hidden;padding: 0;position: absolute;width: 1px;}#sk-container-id-1 div.sk-estimator {font-family: monospace;background-color: #f0f8ff;border: 1px dotted black;border-radius: 0.25em;box-sizing: border-box;margin-bottom: 0.5em;}#sk-container-id-1 div.sk-estimator:hover {background-color: #d4ebff;}#sk-container-id-1 div.sk-parallel-item::after {content: \"\";width: 100%;border-bottom: 1px solid gray;flex-grow: 1;}#sk-container-id-1 div.sk-label:hover label.sk-toggleable__label {background-color: #d4ebff;}#sk-container-id-1 div.sk-serial::before {content: \"\";position: absolute;border-left: 1px solid gray;box-sizing: border-box;top: 0;bottom: 0;left: 50%;z-index: 0;}#sk-container-id-1 div.sk-serial {display: flex;flex-direction: column;align-items: center;background-color: white;padding-right: 0.2em;padding-left: 0.2em;position: relative;}#sk-container-id-1 div.sk-item {position: relative;z-index: 1;}#sk-container-id-1 div.sk-parallel {display: flex;align-items: stretch;justify-content: center;background-color: white;position: relative;}#sk-container-id-1 div.sk-item::before, #sk-container-id-1 div.sk-parallel-item::before {content: \"\";position: absolute;border-left: 1px solid gray;box-sizing: border-box;top: 0;bottom: 0;left: 50%;z-index: -1;}#sk-container-id-1 div.sk-parallel-item {display: flex;flex-direction: column;z-index: 1;position: relative;background-color: white;}#sk-container-id-1 div.sk-parallel-item:first-child::after {align-self: flex-end;width: 50%;}#sk-container-id-1 div.sk-parallel-item:last-child::after {align-self: flex-start;width: 50%;}#sk-container-id-1 div.sk-parallel-item:only-child::after {width: 0;}#sk-container-id-1 div.sk-dashed-wrapped {border: 1px dashed gray;margin: 0 0.4em 0.5em 0.4em;box-sizing: border-box;padding-bottom: 0.4em;background-color: white;}#sk-container-id-1 div.sk-label label {font-family: monospace;font-weight: bold;display: inline-block;line-height: 1.2em;}#sk-container-id-1 div.sk-label-container {text-align: center;}#sk-container-id-1 div.sk-container {/* jupyter's `normalize.less` sets `[hidden] { display: none; }` but bootstrap.min.css set `[hidden] { display: none !important; }` so we also need the `!important` here to be able to override the default hidden behavior on the sphinx rendered scikit-learn.org. See: https://github.com/scikit-learn/scikit-learn/issues/21755 */display: inline-block !important;position: relative;}#sk-container-id-1 div.sk-text-repr-fallback {display: none;}</style><div id=\"sk-container-id-1\" class=\"sk-top-container\"><div class=\"sk-text-repr-fallback\"><pre>LinearRegression()</pre><b>In a Jupyter environment, please rerun this cell to show the HTML representation or trust the notebook. <br />On GitHub, the HTML representation is unable to render, please try loading this page with nbviewer.org.</b></div><div class=\"sk-container\" hidden><div class=\"sk-item\"><div class=\"sk-estimator sk-toggleable\"><input class=\"sk-toggleable__control sk-hidden--visually\" id=\"sk-estimator-id-1\" type=\"checkbox\" checked><label for=\"sk-estimator-id-1\" class=\"sk-toggleable__label sk-toggleable__label-arrow\">LinearRegression</label><div class=\"sk-toggleable__content\"><pre>LinearRegression()</pre></div></div></div></div></div>"
      ],
      "text/plain": [
       "LinearRegression()"
      ]
     },
     "execution_count": 28,
     "metadata": {},
     "output_type": "execute_result"
    }
   ],
   "source": [
    "from sklearn.linear_model import LinearRegression\n",
    "model = LinearRegression()\n",
    "model.fit(X_train_final, y_train)\n"
   ]
  },
  {
   "cell_type": "code",
   "execution_count": 29,
   "metadata": {},
   "outputs": [
    {
     "data": {
      "text/plain": [
       "array([0.4543575 , 0.52459598, 0.50195956, ..., 0.54060531, 0.466483  ,\n",
       "       0.54126632])"
      ]
     },
     "execution_count": 29,
     "metadata": {},
     "output_type": "execute_result"
    }
   ],
   "source": [
    "y_pred = model.predict(X_valid_final)\n",
    "\n",
    "y_pred"
   ]
  },
  {
   "attachments": {},
   "cell_type": "markdown",
   "metadata": {},
   "source": [
    "#### Evaluating the model"
   ]
  },
  {
   "cell_type": "code",
   "execution_count": 30,
   "metadata": {},
   "outputs": [
    {
     "name": "stdout",
     "output_type": "stream",
     "text": [
      "0.07104476948248735\n",
      "0.23102178819073005\n",
      "0.007679505382785207\n"
     ]
    }
   ],
   "source": [
    "from sklearn.metrics import mean_absolute_error,r2_score,mean_squared_error\n",
    "\n",
    "ma=mean_absolute_error(y_valid,y_pred)\n",
    "r2=r2_score(y_valid,y_pred)\n",
    "ms=mean_squared_error(y_valid,y_pred)\n",
    "\n",
    "print(ma)\n",
    "\n",
    "print(r2)\n",
    "\n",
    "\n",
    "print(ms)"
   ]
  },
  {
   "cell_type": "code",
   "execution_count": 37,
   "metadata": {},
   "outputs": [
    {
     "name": "stdout",
     "output_type": "stream",
     "text": [
      "['ESTU_GENERO_F' 'ESTU_GENERO_M' 'FAMI_TIENEINTERNET_No'\n",
      " 'FAMI_TIENEINTERNET_Si' 'FAMI_TIENECOMPUTADOR_No'\n",
      " 'FAMI_TIENECOMPUTADOR_Si' 'EDAD' 'FAMI_ESTRATOVIVIENDA'\n",
      " 'FAMI_PERSONASHOGAR' 'COLE_MCPIO_UBICACION' 'COLE_DEPTO_UBICACION'\n",
      " 'FAMI_EDUCACIONMADRE' 'ESTU_DEDICACIONLECTURADIARIA']\n",
      "[ 4.21088738e+08  4.21088738e+08  2.98936657e+08  2.98936657e+08\n",
      "  2.25982078e+05  2.25982097e+05 -2.10822411e-02  4.01131995e-03\n",
      " -7.71096349e-03 -1.22189522e-05  1.85010955e-04  9.37865302e-03\n",
      "  1.44631118e-02]\n"
     ]
    }
   ],
   "source": [
    "print(model.feature_names_in_)\n",
    "print(model.coef_) # weight of each variable in the prediction"
   ]
  },
  {
   "cell_type": "markdown",
   "metadata": {},
   "source": [
    "#### Conclusions\n",
    "\n",
    "\n",
    "-Before the evalution of the model I concluded data isn´t big enough to get more accurate predictors.\n",
    "-An R^2 value of 0.2310226251792521 suggests that the model explains approximately 23.1% of the variability present in the data, which is not a very good fit.\n"
   ]
  },
  {
   "cell_type": "markdown",
   "metadata": {},
   "source": [
    "#### Top Fields\n",
    "Fields ranked by their contribution to the prediction results: using model.coef_ and model.feature_names_in_ and some transformations we get for each field:\n",
    "porcentajes = [\n",
    "    14.3, 13.2, 13.1, 11.0, 10.5, 8.0, 8.0, 7.6, 7.4, 6.8\n",
    "]"
   ]
  },
  {
   "cell_type": "code",
   "execution_count": 36,
   "metadata": {},
   "outputs": [
    {
     "data": {
      "application/vnd.plotly.v1+json": {
       "config": {
        "plotlyServerURL": "https://plot.ly"
       },
       "data": [
        {
         "marker": {
          "color": "blue"
         },
         "opacity": 0.6,
         "orientation": "h",
         "type": "bar",
         "x": [
          14.3,
          13.2,
          13.1,
          11,
          10.5,
          8,
          8,
          7.6,
          7.4,
          6.8
         ],
         "y": [
          "COLE_DEPTO_UBICACION",
          "COLE_MCPIO_UBICACION",
          "FAMI_EDUCACIONMADRE",
          "ESTU_DEDICACIONLECTURADIARIA",
          "EDAD",
          "ESTU_GENERO",
          "FAMI_ESTRATOVIVIENDA",
          "FAMI_TIENEINTERNET",
          "FAMI_TIENECOMPUTADOR",
          "FAMI_PERSONASHOGAR"
         ]
        }
       ],
       "layout": {
        "height": 600,
        "margin": {
         "b": 50,
         "l": 100,
         "r": 50,
         "t": 60
        },
        "template": {
         "data": {
          "bar": [
           {
            "error_x": {
             "color": "#2a3f5f"
            },
            "error_y": {
             "color": "#2a3f5f"
            },
            "marker": {
             "line": {
              "color": "#E5ECF6",
              "width": 0.5
             },
             "pattern": {
              "fillmode": "overlay",
              "size": 10,
              "solidity": 0.2
             }
            },
            "type": "bar"
           }
          ],
          "barpolar": [
           {
            "marker": {
             "line": {
              "color": "#E5ECF6",
              "width": 0.5
             },
             "pattern": {
              "fillmode": "overlay",
              "size": 10,
              "solidity": 0.2
             }
            },
            "type": "barpolar"
           }
          ],
          "carpet": [
           {
            "aaxis": {
             "endlinecolor": "#2a3f5f",
             "gridcolor": "white",
             "linecolor": "white",
             "minorgridcolor": "white",
             "startlinecolor": "#2a3f5f"
            },
            "baxis": {
             "endlinecolor": "#2a3f5f",
             "gridcolor": "white",
             "linecolor": "white",
             "minorgridcolor": "white",
             "startlinecolor": "#2a3f5f"
            },
            "type": "carpet"
           }
          ],
          "choropleth": [
           {
            "colorbar": {
             "outlinewidth": 0,
             "ticks": ""
            },
            "type": "choropleth"
           }
          ],
          "contour": [
           {
            "colorbar": {
             "outlinewidth": 0,
             "ticks": ""
            },
            "colorscale": [
             [
              0,
              "#0d0887"
             ],
             [
              0.1111111111111111,
              "#46039f"
             ],
             [
              0.2222222222222222,
              "#7201a8"
             ],
             [
              0.3333333333333333,
              "#9c179e"
             ],
             [
              0.4444444444444444,
              "#bd3786"
             ],
             [
              0.5555555555555556,
              "#d8576b"
             ],
             [
              0.6666666666666666,
              "#ed7953"
             ],
             [
              0.7777777777777778,
              "#fb9f3a"
             ],
             [
              0.8888888888888888,
              "#fdca26"
             ],
             [
              1,
              "#f0f921"
             ]
            ],
            "type": "contour"
           }
          ],
          "contourcarpet": [
           {
            "colorbar": {
             "outlinewidth": 0,
             "ticks": ""
            },
            "type": "contourcarpet"
           }
          ],
          "heatmap": [
           {
            "colorbar": {
             "outlinewidth": 0,
             "ticks": ""
            },
            "colorscale": [
             [
              0,
              "#0d0887"
             ],
             [
              0.1111111111111111,
              "#46039f"
             ],
             [
              0.2222222222222222,
              "#7201a8"
             ],
             [
              0.3333333333333333,
              "#9c179e"
             ],
             [
              0.4444444444444444,
              "#bd3786"
             ],
             [
              0.5555555555555556,
              "#d8576b"
             ],
             [
              0.6666666666666666,
              "#ed7953"
             ],
             [
              0.7777777777777778,
              "#fb9f3a"
             ],
             [
              0.8888888888888888,
              "#fdca26"
             ],
             [
              1,
              "#f0f921"
             ]
            ],
            "type": "heatmap"
           }
          ],
          "heatmapgl": [
           {
            "colorbar": {
             "outlinewidth": 0,
             "ticks": ""
            },
            "colorscale": [
             [
              0,
              "#0d0887"
             ],
             [
              0.1111111111111111,
              "#46039f"
             ],
             [
              0.2222222222222222,
              "#7201a8"
             ],
             [
              0.3333333333333333,
              "#9c179e"
             ],
             [
              0.4444444444444444,
              "#bd3786"
             ],
             [
              0.5555555555555556,
              "#d8576b"
             ],
             [
              0.6666666666666666,
              "#ed7953"
             ],
             [
              0.7777777777777778,
              "#fb9f3a"
             ],
             [
              0.8888888888888888,
              "#fdca26"
             ],
             [
              1,
              "#f0f921"
             ]
            ],
            "type": "heatmapgl"
           }
          ],
          "histogram": [
           {
            "marker": {
             "pattern": {
              "fillmode": "overlay",
              "size": 10,
              "solidity": 0.2
             }
            },
            "type": "histogram"
           }
          ],
          "histogram2d": [
           {
            "colorbar": {
             "outlinewidth": 0,
             "ticks": ""
            },
            "colorscale": [
             [
              0,
              "#0d0887"
             ],
             [
              0.1111111111111111,
              "#46039f"
             ],
             [
              0.2222222222222222,
              "#7201a8"
             ],
             [
              0.3333333333333333,
              "#9c179e"
             ],
             [
              0.4444444444444444,
              "#bd3786"
             ],
             [
              0.5555555555555556,
              "#d8576b"
             ],
             [
              0.6666666666666666,
              "#ed7953"
             ],
             [
              0.7777777777777778,
              "#fb9f3a"
             ],
             [
              0.8888888888888888,
              "#fdca26"
             ],
             [
              1,
              "#f0f921"
             ]
            ],
            "type": "histogram2d"
           }
          ],
          "histogram2dcontour": [
           {
            "colorbar": {
             "outlinewidth": 0,
             "ticks": ""
            },
            "colorscale": [
             [
              0,
              "#0d0887"
             ],
             [
              0.1111111111111111,
              "#46039f"
             ],
             [
              0.2222222222222222,
              "#7201a8"
             ],
             [
              0.3333333333333333,
              "#9c179e"
             ],
             [
              0.4444444444444444,
              "#bd3786"
             ],
             [
              0.5555555555555556,
              "#d8576b"
             ],
             [
              0.6666666666666666,
              "#ed7953"
             ],
             [
              0.7777777777777778,
              "#fb9f3a"
             ],
             [
              0.8888888888888888,
              "#fdca26"
             ],
             [
              1,
              "#f0f921"
             ]
            ],
            "type": "histogram2dcontour"
           }
          ],
          "mesh3d": [
           {
            "colorbar": {
             "outlinewidth": 0,
             "ticks": ""
            },
            "type": "mesh3d"
           }
          ],
          "parcoords": [
           {
            "line": {
             "colorbar": {
              "outlinewidth": 0,
              "ticks": ""
             }
            },
            "type": "parcoords"
           }
          ],
          "pie": [
           {
            "automargin": true,
            "type": "pie"
           }
          ],
          "scatter": [
           {
            "fillpattern": {
             "fillmode": "overlay",
             "size": 10,
             "solidity": 0.2
            },
            "type": "scatter"
           }
          ],
          "scatter3d": [
           {
            "line": {
             "colorbar": {
              "outlinewidth": 0,
              "ticks": ""
             }
            },
            "marker": {
             "colorbar": {
              "outlinewidth": 0,
              "ticks": ""
             }
            },
            "type": "scatter3d"
           }
          ],
          "scattercarpet": [
           {
            "marker": {
             "colorbar": {
              "outlinewidth": 0,
              "ticks": ""
             }
            },
            "type": "scattercarpet"
           }
          ],
          "scattergeo": [
           {
            "marker": {
             "colorbar": {
              "outlinewidth": 0,
              "ticks": ""
             }
            },
            "type": "scattergeo"
           }
          ],
          "scattergl": [
           {
            "marker": {
             "colorbar": {
              "outlinewidth": 0,
              "ticks": ""
             }
            },
            "type": "scattergl"
           }
          ],
          "scattermapbox": [
           {
            "marker": {
             "colorbar": {
              "outlinewidth": 0,
              "ticks": ""
             }
            },
            "type": "scattermapbox"
           }
          ],
          "scatterpolar": [
           {
            "marker": {
             "colorbar": {
              "outlinewidth": 0,
              "ticks": ""
             }
            },
            "type": "scatterpolar"
           }
          ],
          "scatterpolargl": [
           {
            "marker": {
             "colorbar": {
              "outlinewidth": 0,
              "ticks": ""
             }
            },
            "type": "scatterpolargl"
           }
          ],
          "scatterternary": [
           {
            "marker": {
             "colorbar": {
              "outlinewidth": 0,
              "ticks": ""
             }
            },
            "type": "scatterternary"
           }
          ],
          "surface": [
           {
            "colorbar": {
             "outlinewidth": 0,
             "ticks": ""
            },
            "colorscale": [
             [
              0,
              "#0d0887"
             ],
             [
              0.1111111111111111,
              "#46039f"
             ],
             [
              0.2222222222222222,
              "#7201a8"
             ],
             [
              0.3333333333333333,
              "#9c179e"
             ],
             [
              0.4444444444444444,
              "#bd3786"
             ],
             [
              0.5555555555555556,
              "#d8576b"
             ],
             [
              0.6666666666666666,
              "#ed7953"
             ],
             [
              0.7777777777777778,
              "#fb9f3a"
             ],
             [
              0.8888888888888888,
              "#fdca26"
             ],
             [
              1,
              "#f0f921"
             ]
            ],
            "type": "surface"
           }
          ],
          "table": [
           {
            "cells": {
             "fill": {
              "color": "#EBF0F8"
             },
             "line": {
              "color": "white"
             }
            },
            "header": {
             "fill": {
              "color": "#C8D4E3"
             },
             "line": {
              "color": "white"
             }
            },
            "type": "table"
           }
          ]
         },
         "layout": {
          "annotationdefaults": {
           "arrowcolor": "#2a3f5f",
           "arrowhead": 0,
           "arrowwidth": 1
          },
          "autotypenumbers": "strict",
          "coloraxis": {
           "colorbar": {
            "outlinewidth": 0,
            "ticks": ""
           }
          },
          "colorscale": {
           "diverging": [
            [
             0,
             "#8e0152"
            ],
            [
             0.1,
             "#c51b7d"
            ],
            [
             0.2,
             "#de77ae"
            ],
            [
             0.3,
             "#f1b6da"
            ],
            [
             0.4,
             "#fde0ef"
            ],
            [
             0.5,
             "#f7f7f7"
            ],
            [
             0.6,
             "#e6f5d0"
            ],
            [
             0.7,
             "#b8e186"
            ],
            [
             0.8,
             "#7fbc41"
            ],
            [
             0.9,
             "#4d9221"
            ],
            [
             1,
             "#276419"
            ]
           ],
           "sequential": [
            [
             0,
             "#0d0887"
            ],
            [
             0.1111111111111111,
             "#46039f"
            ],
            [
             0.2222222222222222,
             "#7201a8"
            ],
            [
             0.3333333333333333,
             "#9c179e"
            ],
            [
             0.4444444444444444,
             "#bd3786"
            ],
            [
             0.5555555555555556,
             "#d8576b"
            ],
            [
             0.6666666666666666,
             "#ed7953"
            ],
            [
             0.7777777777777778,
             "#fb9f3a"
            ],
            [
             0.8888888888888888,
             "#fdca26"
            ],
            [
             1,
             "#f0f921"
            ]
           ],
           "sequentialminus": [
            [
             0,
             "#0d0887"
            ],
            [
             0.1111111111111111,
             "#46039f"
            ],
            [
             0.2222222222222222,
             "#7201a8"
            ],
            [
             0.3333333333333333,
             "#9c179e"
            ],
            [
             0.4444444444444444,
             "#bd3786"
            ],
            [
             0.5555555555555556,
             "#d8576b"
            ],
            [
             0.6666666666666666,
             "#ed7953"
            ],
            [
             0.7777777777777778,
             "#fb9f3a"
            ],
            [
             0.8888888888888888,
             "#fdca26"
            ],
            [
             1,
             "#f0f921"
            ]
           ]
          },
          "colorway": [
           "#636efa",
           "#EF553B",
           "#00cc96",
           "#ab63fa",
           "#FFA15A",
           "#19d3f3",
           "#FF6692",
           "#B6E880",
           "#FF97FF",
           "#FECB52"
          ],
          "font": {
           "color": "#2a3f5f"
          },
          "geo": {
           "bgcolor": "white",
           "lakecolor": "white",
           "landcolor": "#E5ECF6",
           "showlakes": true,
           "showland": true,
           "subunitcolor": "white"
          },
          "hoverlabel": {
           "align": "left"
          },
          "hovermode": "closest",
          "mapbox": {
           "style": "light"
          },
          "paper_bgcolor": "white",
          "plot_bgcolor": "#E5ECF6",
          "polar": {
           "angularaxis": {
            "gridcolor": "white",
            "linecolor": "white",
            "ticks": ""
           },
           "bgcolor": "#E5ECF6",
           "radialaxis": {
            "gridcolor": "white",
            "linecolor": "white",
            "ticks": ""
           }
          },
          "scene": {
           "xaxis": {
            "backgroundcolor": "#E5ECF6",
            "gridcolor": "white",
            "gridwidth": 2,
            "linecolor": "white",
            "showbackground": true,
            "ticks": "",
            "zerolinecolor": "white"
           },
           "yaxis": {
            "backgroundcolor": "#E5ECF6",
            "gridcolor": "white",
            "gridwidth": 2,
            "linecolor": "white",
            "showbackground": true,
            "ticks": "",
            "zerolinecolor": "white"
           },
           "zaxis": {
            "backgroundcolor": "#E5ECF6",
            "gridcolor": "white",
            "gridwidth": 2,
            "linecolor": "white",
            "showbackground": true,
            "ticks": "",
            "zerolinecolor": "white"
           }
          },
          "shapedefaults": {
           "line": {
            "color": "#2a3f5f"
           }
          },
          "ternary": {
           "aaxis": {
            "gridcolor": "white",
            "linecolor": "white",
            "ticks": ""
           },
           "baxis": {
            "gridcolor": "white",
            "linecolor": "white",
            "ticks": ""
           },
           "bgcolor": "#E5ECF6",
           "caxis": {
            "gridcolor": "white",
            "linecolor": "white",
            "ticks": ""
           }
          },
          "title": {
           "x": 0.05
          },
          "xaxis": {
           "automargin": true,
           "gridcolor": "white",
           "linecolor": "white",
           "ticks": "",
           "title": {
            "standoff": 15
           },
           "zerolinecolor": "white",
           "zerolinewidth": 2
          },
          "yaxis": {
           "automargin": true,
           "gridcolor": "white",
           "linecolor": "white",
           "ticks": "",
           "title": {
            "standoff": 15
           },
           "zerolinecolor": "white",
           "zerolinewidth": 2
          }
         }
        },
        "title": {
         "text": "Fields ranked by their contribution to the prediction results"
        },
        "width": 800,
        "xaxis": {
         "title": {
          "text": "%"
         }
        },
        "yaxis": {
         "title": {
          "text": "Fields"
         }
        }
       }
      }
     },
     "metadata": {},
     "output_type": "display_data"
    }
   ],
   "source": [
    "import plotly.graph_objects as go\n",
    "\n",
    "# Datos de la tabla\n",
    "categorias = [\n",
    "    'COLE_DEPTO_UBICACION', 'COLE_MCPIO_UBICACION', 'FAMI_EDUCACIONMADRE',\n",
    "    'ESTU_DEDICACIONLECTURADIARIA', 'EDAD', 'ESTU_GENERO',\n",
    "    'FAMI_ESTRATOVIVIENDA', 'FAMI_TIENEINTERNET', 'FAMI_TIENECOMPUTADOR', 'FAMI_PERSONASHOGAR'\n",
    "]\n",
    "\n",
    "porcentajes = [\n",
    "    14.3, 13.2, 13.1, 11.0, 10.5, 8.0, 8.0, 7.6, 7.4, 6.8\n",
    "]\n",
    "\n",
    "# Crear el gráfico de barras horizontales\n",
    "fig = go.Figure()\n",
    "\n",
    "fig.add_trace(go.Bar(\n",
    "    y=categorias,\n",
    "    x=porcentajes,\n",
    "    marker_color='blue',\n",
    "    opacity=0.6,\n",
    "    orientation='h'\n",
    "))\n",
    "\n",
    "# Personalización del gráfico\n",
    "fig.update_layout(\n",
    "    title='Fields ranked by their contribution to the prediction results',\n",
    "    yaxis_title='Fields',\n",
    "    xaxis_title='%',\n",
    "    width=800,  # Ajusta el ancho del gráfico (en píxeles)\n",
    "    height=600,  # Ajusta el alto del gráfico (en píxeles)\n",
    "    margin=dict(l=100, r=50, t=60, b=50)  # Ajusta los márgenes del gráfico para evitar recortes de etiquetas\n",
    ")\n",
    "\n",
    "# Mostrar el gráfico\n",
    "fig.show()\n"
   ]
  }
 ],
 "metadata": {
  "kernelspec": {
   "display_name": "Python 3",
   "language": "python",
   "name": "python3"
  },
  "language_info": {
   "codemirror_mode": {
    "name": "ipython",
    "version": 3
   },
   "file_extension": ".py",
   "mimetype": "text/x-python",
   "name": "python",
   "nbconvert_exporter": "python",
   "pygments_lexer": "ipython3",
   "version": "3.11.4"
  },
  "orig_nbformat": 4
 },
 "nbformat": 4,
 "nbformat_minor": 2
}
